{
 "cells": [
  {
   "cell_type": "markdown",
   "metadata": {},
   "source": [
    "# Práctica de alineamiento de secuencias\n",
    "\n",
    "En esta práctica aprenderemos a usar el paquete DECIPHER en R para el alineamiento de múltiples secuencias. El paquete [DECIPHER](http://www2.decipher.codes/) ha sido creado por Erik Wright y está distribuído bajo licencia GPL 3 a través de Bioconductor.\n",
    "\n",
    "En esta misma carpeta tenéis el tutorial *The Art of Multiple Sequence Alignment in R*, en el cual se basan los ejercicios de esta prácitca. El tutorial contiene mucha más información. Su figura 6 se reproduce a continuación:\n",
    "\n",
    "![](fig6.png)\n",
    "\n",
    "## Alineamiento de un solo gen codificante\n",
    "En la carpeta `data` tienes el archivo fasta `50S_ribosomal_protein_L2.fas`, con secuencias nucloetídicas de un gen en 317 bacterias. Para introducir los datos en el espacio de trabajo de R usamos a continuación la función `readDNAStringSet()`, del paquete `Biostrings`, que está incluido en `DECIPHER`. Lee y ejecuta el bloque de código siguiente, y aségurate de comprender lo que está pasando en cada línea:"
   ]
  },
  {
   "cell_type": "code",
   "execution_count": null,
   "metadata": {},
   "outputs": [],
   "source": [
    "suppressMessages(library('DECIPHER'))\n",
    "fastaFile <- 'data/50S_ribosomal_protein_L2.fas'\n",
    "dna <- readDNAStringSet(fastaFile)\n",
    "dna"
   ]
  },
  {
   "cell_type": "markdown",
   "metadata": {},
   "source": [
    "El objeto `dna` contiene las secuencias nucleotídicas y sus nombres. Al invocar el nombre del objeto en la línea de comandos se nos muestra un pequeño extracto del principio y del final del conjunto de secuencias. Algunas clases de objetos en R pueden parecer opacas. **Hay alguna información adicional sobre `dna` que te gustaría conocer? Sabrías explorar las funciones disponibles para trabajar con esta clase de objeto?**\n",
    "\n",
    "### Ejercicio 1\n",
    "La función para alinear las secuencias es `AlignSeqs()`. Puedes consultar la ayuda de esta función mediante `help(AlignSeqs)`. Crea un alineamiento de las secuencias de nucleótidos. Después usa la función `BrowseSeqs()` para visualizar el alineamiento, y finalmente guarda el alineamiento en formato FASTA con la función `writeXStringSet()`. **Nota 1**: No olvides usar `<-` para asignar el resultado de la función `AlignSeqs()` a un objeto nuevo. **Nota 2**: para que `BrowseSeqs()` muestre el alineamiento en este entorno de trabajo debes especificar la opción `htmlFile = <nombre del archivo html>` para crear un archivo html y después abrirlo manualmente."
   ]
  },
  {
   "cell_type": "code",
   "execution_count": null,
   "metadata": {},
   "outputs": [],
   "source": []
  },
  {
   "cell_type": "markdown",
   "metadata": {},
   "source": [
    "## Alineamiento en espacio de aminoácidos\n",
    "Puesto que los genes alineados son codificantes, podemos alinear sus traducciones a polipéptidos, que es mucho más eficaz. Además, tenemos la posibilidad de *des-traducir* el alineamiento posteriormente. Para todo ello, usamos la función `AlignTranslation()`, en la que podemos especificar el tipo de secuencias, nucleótidos o aminoácidos, que queremos ver alineadas: "
   ]
  },
  {
   "cell_type": "code",
   "execution_count": null,
   "metadata": {},
   "outputs": [],
   "source": [
    "alineamiento.aa <- AlignTranslation(dna, type = 'AAStringSet')\n",
    "BrowseSeqs(alineamiento.aa, openURL=TRUE)"
   ]
  },
  {
   "cell_type": "markdown",
   "metadata": {},
   "source": [
    "### Ejercicio 2\n",
    "En el ejemplo anterior, `alineamiento.aa` contiene las secuencias de aminoácidos alineadas. Usa tú ahora la misma función, pero con la opción `type = 'DNAStringSet'` para producir el mismo alineamiento pero en nucleótidos. Después intenta comparar el resultado con el alineamiento realizado anteriormente sin traducción."
   ]
  },
  {
   "cell_type": "code",
   "execution_count": null,
   "metadata": {},
   "outputs": [],
   "source": []
  },
  {
   "cell_type": "markdown",
   "metadata": {},
   "source": [
    "## Evitar falsas homologías\n",
    "En la evolución molecular, pueden producirse **inserciones** en linajes independientes, pero en posiciones próximas de la secuencia. Como resultado, el alineamiento puede considerar homólogas regiones que en realidad no lo son, cerca de donde se encuentran los *gaps*. El paquete `DECIPHER` incluye la función `StaggerAlignment()` para intentar aliviar esta situación y mejorar la inferencia filogenética.\n",
    "\n",
    "### Ejercicio 3\n",
    "Utiliza la función `StaggerAlignment()` para re-alinear las secuencias aminoacídicas guardadas en el objeto `alineamiento.aa` y compara los dos alineamientos. Comprueba que puedes encontrar diferencias."
   ]
  },
  {
   "cell_type": "code",
   "execution_count": null,
   "metadata": {},
   "outputs": [],
   "source": []
  },
  {
   "cell_type": "markdown",
   "metadata": {},
   "source": [
    "## Orientación de las secuencias\n",
    "\n",
    "Algunos genes se encuentran en la cadena complementaria a la representada por la secuencia en una base de datos. Si por cualquier motivo sospechamos que algunas secuencias pueden ser las invertidas-complementarias de los genes, antes de alinear habría que corregir el sentido. Para ello, `DECIPHER` cuenta con la funcion `OrientNucleotides()`. Esta función toma una o más secuencias de referencia y revisa la semejanza de todas las demás a este grupo de referencia. Si invertir-complementar alguna secuencia hace que sea *bastante* más parecida a alguna secuencia de referencia, entonces se acepta el cambio de sentido.\n",
    "\n",
    "Al ejecutar el bloque siguiente, sustituyes 12 secuencias por sus complementarias invertidas, sin guardar registro de qué secuencias has cambiado:"
   ]
  },
  {
   "cell_type": "code",
   "execution_count": null,
   "metadata": {},
   "outputs": [],
   "source": [
    "muestra <- sample(1:length(dna), 12)\n",
    "dna.simulado <- dna\n",
    "dna.simulado[muestra] <- reverseComplement(dna.simulado[muestra])\n",
    "rm(muestra)\n",
    "dna.simulado"
   ]
  },
  {
   "cell_type": "markdown",
   "metadata": {},
   "source": [
    "### Ejercicio 4\n",
    "¿Puedes identificar las secuencias invertidas? ¿Qué estrategia usarías para comprobar si todas las secuencias codificantes de un archivo FASTA están en la misma orientación? ¿Hay alguna manera de definir un conjunto de secuencias de referencia con una orientación común? Puedes usar el bloque de código a continuación para hacer tus comprobaciones antes de discutir tus conclusiones."
   ]
  },
  {
   "cell_type": "code",
   "execution_count": null,
   "metadata": {},
   "outputs": [],
   "source": []
  },
  {
   "cell_type": "markdown",
   "metadata": {},
   "source": [
    "## Alineamiento de genes no codificantes\n",
    "En la carpeta `data` tienes también el archivo FASTA `16S_ribosomal_RNA.fas` con secuencias de RNA no codificantes. `DECIPHER` puede utilizar la predicción de estructura secundaria de los RNAs no codificantes para guiar el alineamiento de los nucleótidos. Para ello sólo es necesario que a la hora de cargar las secuencias en memoria éstas sean definidas como RNA. Entonces, la función `AlignSeqs()` lo detectará y utilizará la predicción de estructura secundaria en el alineamiento:"
   ]
  },
  {
   "cell_type": "code",
   "execution_count": null,
   "metadata": {},
   "outputs": [],
   "source": [
    "rna <- readRNAStringSet('data/16S_ribosomal_RNA.fas')\n",
    "rna"
   ]
  },
  {
   "cell_type": "markdown",
   "metadata": {},
   "source": [
    "Podríamos haber leído las secuencias como DNA mediante la función `readDNAStringSet()`. Y también podemos cambiar de uno a otro tipo de secuencia. Por ejemplo:"
   ]
  },
  {
   "cell_type": "code",
   "execution_count": null,
   "metadata": {},
   "outputs": [],
   "source": [
    "dna.16S <- DNAStringSet(rna)\n",
    "dna.16S"
   ]
  },
  {
   "cell_type": "markdown",
   "metadata": {},
   "source": [
    "### Ejercicio 5\n",
    "Alinea las secuencias de RNA ribosomal de las dos maneras, como RNA y como DNA, y compara los resultados. **Nota**: si quieres evitar los largos mensajes producidos por `AlignSeqs()`, puedes usar la opción `verbose = FALSE`."
   ]
  },
  {
   "cell_type": "code",
   "execution_count": null,
   "metadata": {},
   "outputs": [],
   "source": []
  },
  {
   "cell_type": "markdown",
   "metadata": {},
   "source": [
    "## Alineamiento de regiones homólogas entre genomas\n",
    "Los alineamientos múltiples realizados hasta ahora son globales y asumen que la homología entre las secuencias se extiende colinearlmente de principio a fin. Otros tipos de conjuntos de secuencias (genes con intrones, proteínas multidominio, genomas enteros...) pueden contener regiones homólogas y no homólogas, así como reordenamientos de la secuencia que rompa la colinearidad: duplicaciones, inversiones y translocaciones. Para alinear estos tipos de secuencias podemos usar las funiones `FindSynteny()` y `AlignSynteny()` de `DECIPHER`.\n",
    "\n",
    "Este ejemplo nos permite introducir un aspecto técnico de `DECIPHER` que le confiere la capacidad de alinear muchas más secuencias de las que caben en la memoria de trabajo. Para ello `DECIPHER` tiene la capacidad de trabajar con **bases de datos** locales: archivos binarios en los que se guardan las secuencias que se quieren comparar. Es posible crear una base de datos (de tipo SQLite) a partir de archivos FASTA. Para este ejercicio, usaremos una base de datos de ejemplo, ya incluida en el paquete `DECIPHER`. Contiene cinco genomas de influenzavirus A. La función `system.file()` encuentra la dirección de los archivos especificados:"
   ]
  },
  {
   "cell_type": "code",
   "execution_count": null,
   "metadata": {},
   "outputs": [],
   "source": [
    "db <- system.file(\"extdata\", \"Influenza.sqlite\", package = \"DECIPHER\")\n",
    "db"
   ]
  },
  {
   "cell_type": "code",
   "execution_count": null,
   "metadata": {},
   "outputs": [],
   "source": [
    "synteny <- FindSynteny(db, verbose=FALSE)\n",
    "synteny"
   ]
  },
  {
   "cell_type": "code",
   "execution_count": null,
   "metadata": {},
   "outputs": [],
   "source": [
    "pairs(synteny, boxBlocks=TRUE)"
   ]
  },
  {
   "cell_type": "markdown",
   "metadata": {},
   "source": [
    "## Puntos a recordar\n",
    "- ¿Cómo guardamos los resultados de un alineamiento?\n",
    "- ¿De qué manera podemos evaluar la calidad de un alineamiento?\n",
    "- ¿Por qué es mejor alinear aminoácidos que nucleótidos?\n",
    "- ¿Mejora el alineamiento de secuencias de RNA teniendo en cuenta su estructura secundaria?"
   ]
  }
 ],
 "metadata": {
  "kernelspec": {
   "display_name": "R",
   "language": "R",
   "name": "ir"
  },
  "language_info": {
   "codemirror_mode": "r",
   "file_extension": ".r",
   "mimetype": "text/x-r-source",
   "name": "R",
   "pygments_lexer": "r",
   "version": "3.6.3"
  }
 },
 "nbformat": 4,
 "nbformat_minor": 4
}
